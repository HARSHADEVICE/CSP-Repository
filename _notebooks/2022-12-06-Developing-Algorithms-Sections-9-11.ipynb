{
 "cells": [
  {
   "cell_type": "markdown",
   "metadata": {},
   "source": [
    "# Developing Algorithms\n",
    "\n",
    "- toc: true \n",
    "- badges: true\n",
    "- comments: true"
   ]
  },
  {
   "cell_type": "markdown",
   "metadata": {},
   "source": [
    "Algorithms can be written in different ways and still accomplish the same tasks.\n",
    "Algorithms that look similar often yield differnet outputs.\n",
    "To solve the same problem, many different algorithms can be used.\n",
    "\n",
    "Therefore, algorithms are very important for programmers, and today we're going to explore how to determine the outcome of algorithms, how to deteremine the output of similar algorithms, how to edit existing algorithms, and how to develop our own algorithms."
   ]
  },
  {
   "cell_type": "markdown",
   "metadata": {},
   "source": [
    "### Determine the outcome of algorithms"
   ]
  },
  {
   "cell_type": "markdown",
   "metadata": {},
   "source": [
    "**Consider the following algorithm.**"
   ]
  },
  {
   "cell_type": "code",
   "execution_count": 1,
   "metadata": {},
   "outputs": [
    {
     "name": "stdout",
     "output_type": "stream",
     "text": [
      "True\n"
     ]
    }
   ],
   "source": [
    "def mystery(num, num2):\n",
    "    if (num % num2 == 0):\n",
    "        print(\"True\")\n",
    "    else:\n",
    "        print(\"False\")\n",
    "\n",
    "mystery(20, 4)"
   ]
  },
  {
   "cell_type": "markdown",
   "metadata": {},
   "source": [
    "1. What does the algorithm do? Please explain in words.\n",
    "- The algorithm says True when it is divisible by num2. It says False when it is not divisible by num2.\n",
    "2. What if I put in 30 as num and 4 as num2. What would be the output?\n",
    "- False"
   ]
  },
  {
   "cell_type": "markdown",
   "metadata": {},
   "source": [
    "### Determine the outcome of similar algorithms"
   ]
  },
  {
   "cell_type": "markdown",
   "metadata": {},
   "source": [
    "What is the output of this algorithm?"
   ]
  },
  {
   "cell_type": "code",
   "execution_count": 1,
   "metadata": {},
   "outputs": [
    {
     "name": "stdout",
     "output_type": "stream",
     "text": [
      "it is too hot outside\n"
     ]
    }
   ],
   "source": [
    "temp = 95\n",
    "if (temp >= 90):\n",
    "    print(\"it is too hot outside\")\n",
    "else:\n",
    "    if (temp >= 65):\n",
    "        print(\"I will go outside\")\n",
    "    else:\n",
    "        print(\"it is too cold outside\")"
   ]
  },
  {
   "cell_type": "markdown",
   "metadata": {},
   "source": [
    "What is the output of this algorithm? it looks similar but the output is different!"
   ]
  },
  {
   "cell_type": "code",
   "execution_count": 2,
   "metadata": {},
   "outputs": [
    {
     "name": "stdout",
     "output_type": "stream",
     "text": [
      "it is too hot outside\n",
      "i will go outside\n"
     ]
    }
   ],
   "source": [
    "temp = 95\n",
    "if (temp >= 90):\n",
    "    print(\"it is too hot outside\")\n",
    "if (temp >= 65):\n",
    "    print(\"i will go outside\")\n",
    "if (temp < 65):\n",
    "    print(\"it is too cold outside\")"
   ]
  },
  {
   "cell_type": "markdown",
   "metadata": {},
   "source": [
    "### Editing Algorithms\n",
    "Task: Please edit the algorithm above to have it yield the same results as the previous algorithm! (no matter what temp you put in)"
   ]
  },
  {
   "cell_type": "markdown",
   "metadata": {},
   "source": [
    "### Developing Algorithms"
   ]
  },
  {
   "cell_type": "markdown",
   "metadata": {},
   "source": [
    "To develop algorithms, we first need to understand what the question is asking. Then, think about how you would approach it as a human and then try to find what pattern you went through to arrive at the answer. Apply this to code, and there you have it! An algorithm!"
   ]
  },
  {
   "cell_type": "markdown",
   "metadata": {},
   "source": [
    "Let's say you wanted to sum up the first five integers. How would you do this in real life?\n",
    "Your thought process would probably be:\n",
    "- The sum of the first integer is 1. \n",
    "- Then, increase that integer by 1. I now add 2 to my existing sum (1). My new sum is 3.\n",
    "- Repeat until I add 5 to my sum.\n",
    "The resulting sum is 15.\n",
    "\n",
    "Now let's translate this into code."
   ]
  },
  {
   "cell_type": "code",
   "execution_count": 6,
   "metadata": {},
   "outputs": [
    {
     "name": "stdout",
     "output_type": "stream",
     "text": [
      "15\n"
     ]
    }
   ],
   "source": [
    "sum = 0 # start with a sum of 0\n",
    "for i in range (1, 6): # you will repeat the process five times for integers 1-5\n",
    "    sum = sum + i # add the number to your sum\n",
    "print(sum) # print the result"
   ]
  },
  {
   "cell_type": "markdown",
   "metadata": {},
   "source": [
    "Task: Write an algorithm in python that sums up the first 5 odd integers. You can use the following code as a starter."
   ]
  },
  {
   "cell_type": "code",
   "execution_count": 9,
   "metadata": {},
   "outputs": [
    {
     "name": "stdout",
     "output_type": "stream",
     "text": [
      "25\n"
     ]
    }
   ],
   "source": [
    "sum = 0\n",
    "counter = 1\n",
    "for i in range (0, 5):\n",
    "    sum = sum + counter\n",
    "    counter = counter + 2\n",
    "print(sum)"
   ]
  },
  {
   "attachments": {},
   "cell_type": "markdown",
   "metadata": {},
   "source": [
    "### Homework\n",
    "Create an algorithm that will start with any positive integer n and display the full sequence of numbers that result from the Collatz Conjecture. The Collatz Conjecture is as follows:\n",
    "1. start with any positive integer\n",
    "2. if the number is even, divide by 2\n",
    "3. if the number is odd, multiply by 3 and add 1\n",
    "4. repeat steps 2 and 3 until you reach 1\n",
    "\n",
    "Example: if the starting number was 6, the output would be 6, 3, 10, 5, 16, 8, 4, 2, 1"
   ]
  },
  {
   "cell_type": "code",
   "execution_count": 14,
   "metadata": {},
   "outputs": [
    {
     "name": "stdout",
     "output_type": "stream",
     "text": [
      "4\n",
      "2\n",
      "1\n"
     ]
    }
   ],
   "source": [
    "def functioncollatz(number):\n",
    "    while number > 1:\n",
    "        print(number)\n",
    "        if number % 2 == 0: # inputs the condition\n",
    "            number = int(number / 2)\n",
    "        elif number %2 ==1: # inputs the condition\n",
    "            number = int(3 * number + 1)\n",
    "    else:\n",
    "        print(number)\n",
    "    \n",
    "\n",
    "\n",
    "def main(): # inputs the users number into the number function to print the output out. \n",
    "    number = int(input(\"What is your number?\"))\n",
    "    functioncollatz(number)\n",
    "main()"
   ]
  },
  {
   "attachments": {},
   "cell_type": "markdown",
   "metadata": {},
   "source": [
    "# Other homework"
   ]
  },
  {
   "attachments": {},
   "cell_type": "markdown",
   "metadata": {},
   "source": [
    "## Challenges and Homework\n",
    "\n",
    "You have one homework problem.\n",
    "  \n",
    "Yes just one.\n",
    "  \n",
    "Don't get excited though.\n",
    "\n",
    "**Problem:** Given a specific integer **N**, return the square root of **N** (**R**) if **N** is a perfect square, otherwise, return the square root of **N** rounded down to the nearest integer\n",
    "\n",
    "**Input:** **N** (Integer)\n",
    "\n",
    "**Output:** **R** (Integer)\n",
    "  \n",
    "**Constraints:** Do not use any built-in math operations such as `sqrt(x)` or `x**(0.5)`, Try complete the problem in logarithmic time. \n",
    "  \n",
    "**Hint 1:** Maybe you can use Binary Search to try and reduce the number of checks you have to perform?  \n",
    "  \n",
    "**Hint 2:** Is there a mathematical pattern amongst numbers and their square roots that could help you reduce the number of searches or iterations you must execute? Is there some value or rule you can set before applying binary search to narrow the range of possible values?"
   ]
  },
  {
   "cell_type": "code",
   "execution_count": 2,
   "metadata": {},
   "outputs": [],
   "source": [
    "def sqrt(N):\n",
    "    x = N\n",
    "    z = (x+1) // 2\n",
    "    while z < x:\n",
    "        x = z\n",
    "        z = (x + N //x) //2\n",
    "    return x"
   ]
  },
  {
   "cell_type": "code",
   "execution_count": 3,
   "metadata": {},
   "outputs": [
    {
     "name": "stdout",
     "output_type": "stream",
     "text": [
      "Check number 1 passed\n",
      "Check number 2 passed\n",
      "Check number 3 passed\n",
      "Check number 4 passed\n",
      "Check number 5 passed\n",
      "Check number 6 passed\n",
      "Check number 7 passed\n",
      "Check number 8 passed\n",
      "Check number 9 passed\n",
      "Check number 10 passed\n",
      "Check number 11 passed\n",
      "Check number 12 passed\n",
      "Check number 13 passed\n"
     ]
    }
   ],
   "source": [
    "from math import sqrt as sq\n",
    "test_cases = [0,1,4,85248289,22297284,18939904,91107025,69122596,9721924,37810201,1893294144,8722812816,644398225]\n",
    "answers = [int(sq(x)) for x in test_cases]\n",
    "\n",
    "def checkValid():\n",
    "    for i in range(len(test_cases)):\n",
    "        if sqrt(test_cases[i]) == answers[i]:\n",
    "            print(\"Check number {} passed\".format(i+1))\n",
    "        else:\n",
    "            print(\"Check number {} failed\".format(i+1))\n",
    "\n",
    "checkValid()"
   ]
  },
  {
   "attachments": {},
   "cell_type": "markdown",
   "metadata": {},
   "source": [
    "# Challenge \n",
    "\n",
    "Using JavaScript, create an algorithm that takes in an IP address and a subnet mask and computes the network address.\n",
    "\n",
    "## Overview\n",
    "\n",
    "As we've seen in Unit 4.1, an IP address is a 32 bit number that uniquely identifies each device. (See [this](https://apclassroom.collegeboard.org/103/home?apd=n5rz22pu2h&unit=4) for a recap). Something extra is that an IP address also comes with a subnet mask. A subnet mask is also a 32 bit number that identifies what network an IP address in in through a process that uses the bitwise AND.\n",
    "\n",
    "In ANDing: \n",
    "\n",
    "0 + 0 = 0\n",
    "\n",
    "0 + 1 = 0 \n",
    "\n",
    "1 + 0 = 0\n",
    "\n",
    "1 + 1 = 1\n",
    "\n",
    "<br>\n",
    "The following are the steps to determine the network that an IP address is in given the subnet mask:\n",
    "\n",
    "Example: IP address: 192.168.0.1\n",
    "\n",
    "Subnet mask: 255.255.255.0\n",
    "\n",
    "1. Convert the IP address into binary: 192.168.0.1 -> 11000000.10101000.00000000.00000001\n",
    "2. Convert the subnet mask into binary: 255.255.255.0 -> 11111111.11111111.11111111.00000000\n",
    "3. Do a bitwise AND operation on the binary IP address and subnet mask: \n",
    "\n",
    "```\n",
    " 11000000.10101000.00000000.00000001\n",
    "+11111111.11111111.11111111.00000000\n",
    "=11000000.10101000.00000000.00000000\n",
    "```\n",
    "4. Convert the result back to decimal: 11000000.10101000.00000000.00000000 -> 192.168.0.0\n",
    "\n",
    "The network address is `192.168.0.0`"
   ]
  },
  {
   "attachments": {},
   "cell_type": "markdown",
   "metadata": {},
   "source": [
    "# Reflection\n",
    "- I did not know how to make the javascript ip converter. I have tried all the other challenges and have gotten them to work. "
   ]
  }
 ],
 "metadata": {
  "kernelspec": {
   "display_name": "Python 3.8.10 64-bit",
   "language": "python",
   "name": "python3"
  },
  "language_info": {
   "codemirror_mode": {
    "name": "ipython",
    "version": 3
   },
   "file_extension": ".py",
   "mimetype": "text/x-python",
   "name": "python",
   "nbconvert_exporter": "python",
   "pygments_lexer": "ipython3",
   "version": "3.8.10"
  },
  "orig_nbformat": 4,
  "vscode": {
   "interpreter": {
    "hash": "916dbcbb3f70747c44a77c7bcd40155683ae19c65e1c03b4aa3499c5328201f1"
   }
  }
 },
 "nbformat": 4,
 "nbformat_minor": 2
}
