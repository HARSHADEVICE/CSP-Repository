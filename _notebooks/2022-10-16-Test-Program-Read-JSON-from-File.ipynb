{
 "cells": [
  {
   "cell_type": "code",
   "execution_count": 3,
   "metadata": {},
   "outputs": [
    {
     "name": "stdout",
     "output_type": "stream",
     "text": [
      "     id           name  math  physics  chemistry\n",
      "0  A001     Harsha Jai    99       98         90\n",
      "1  A002  Raunak Mondal    99       97         90\n",
      "2  A003          Jenny    79       90         78\n",
      "3  A003         Vishnu    79       90         78\n"
     ]
    }
   ],
   "source": [
    "import pandas as pd\n",
    "import json \n",
    "df_f = pd.read_json('/home/harsha/vscode/test.json')\n",
    "print(df_f)"
   ]
  }
 ],
 "metadata": {
  "kernelspec": {
   "display_name": "Python 3.9.12 ('base')",
   "language": "python",
   "name": "python3"
  },
  "language_info": {
   "codemirror_mode": {
    "name": "ipython",
    "version": 3
   },
   "file_extension": ".py",
   "mimetype": "text/x-python",
   "name": "python",
   "nbconvert_exporter": "python",
   "pygments_lexer": "ipython3",
   "version": "3.9.12"
  },
  "orig_nbformat": 4,
  "vscode": {
   "interpreter": {
    "hash": "0e633be2ef5d5f4fdb6262db3c26b5dd5ff8a18f49b3af4ffa88e469c7dd0139"
   }
  }
 },
 "nbformat": 4,
 "nbformat_minor": 2
}
