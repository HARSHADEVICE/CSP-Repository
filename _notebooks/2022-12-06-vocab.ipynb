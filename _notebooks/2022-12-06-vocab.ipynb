{
 "cells": [
  {
   "cell_type": "markdown",
   "metadata": {},
   "source": [
    "# Vocab\n",
    "> Vocab from past notes.\n",
    "- toc: true \n",
    "- badges: true\n",
    "- comments: true\n"
   ]
  },
  {
   "attachments": {},
   "cell_type": "markdown",
   "metadata": {},
   "source": [
    "# Sections 1-2\n",
    "- To define a variable type the name of the variable and use the ‘=’ symbol which defines the variable.\n",
    "After defining a list, many functions can be performed using it.\n",
    "- You can interchange variables by replacing the value of the variable to another variable.\n",
    "- Data Abstraction seperates the qualities of a data type and the concrete details of its representation.\n",
    "AP exam starts index value from 1 and not 0 (like Python).\n",
    "- if: allows for conditional execution of a statement or group of statements based on the value of an expression.\n",
    "- elif: In Python, elif is short for \"else if\" and is used when the first if statement isn't true, but you want to check for another condition.\n",
    "- boolean: denoting a system of algebraic notation used to represent logical propositions, especially in computing and electronics.\n"
   ]
  },
  {
   "attachments": {},
   "cell_type": "markdown",
   "metadata": {},
   "source": [
    "# Sections 3-4\n",
    "- Index is a number representing a position, like a character's position in a string or a string's position in a list.\n",
    "- Index is a number representing a position, like a character's position in a string or a string's position in a list.\n",
    "- Concatenation is when you combine 2 strings. Length is the amount of characters in a string. A substring is a part of a string.\n",
    "- Pseudocode is writing out a program in plain language with keywords that are used to refer to common coding concepts.\n",
    "- The Python for statement iterates over the members of a sequence in order, executing the block each time.\n",
    "- The symbol for exponent is **\n",
    "- The symbol for addition is +\n",
    "- The symbol for subtraction is -\n",
    "- The symbol for multiplication is *\n",
    "- The symbol for division is /\n",
    "- The symbol for modulus is %"
   ]
  },
  {
   "attachments": {},
   "cell_type": "markdown",
   "metadata": {},
   "source": [
    "# Sections 7-8\n",
    "- In Python, you can use a list function which creates a collection that can be manipulated for your analysis. This collection of data is called a list object.\n",
    "- len(list): It gives the total length of the list.\n",
    "- list(seq): Converts a tuple into a list.\n",
    "- append: adds elements.\n",
    "- iteration: helps move around in a list and pinpoint specific values.\n",
    "- remove: removes the specific value.\n",
    "- indexes are specific positions in a list.\n",
    "- aList[i]= assesses syntax, .remove removes element, .append adds element.\n",
    "- You can loop through the list items by using a while loop.\n",
    "- A 2D array is an array of arrays that can be represented in matrix form, like rows and columns."
   ]
  },
  {
   "attachments": {},
   "cell_type": "markdown",
   "metadata": {},
   "source": [
    "## Sections 9-11\n",
    "- An algorithm is a set of actions that are taken to achieve a certain result. There are many algorithms that can be used to achieve a certain result.\n",
    "- Algorithms can be written in different ways and still accomplish the same tasks. \n",
    "- Algorithms that look similar often yield differnet outputs. To solve the same problem, many different algorithms can be used.\n",
    "- Perameter: a numerical or other measurable factor forming one of a set that defines a system or sets the conditions of its operation."
   ]
  },
  {
   "attachments": {},
   "cell_type": "markdown",
   "metadata": {},
   "source": [
    "# Sections "
   ]
  }
 ],
 "metadata": {
  "kernelspec": {
   "display_name": "Python 3.10.6 64-bit",
   "language": "python",
   "name": "python3"
  },
  "language_info": {
   "codemirror_mode": {
    "name": "ipython",
    "version": 3
   },
   "file_extension": ".py",
   "mimetype": "text/x-python",
   "name": "python",
   "nbconvert_exporter": "python",
   "pygments_lexer": "ipython3",
   "version": "3.8.10 (default, Jun 22 2022, 20:18:18) \n[GCC 9.4.0]"
  },
  "orig_nbformat": 4,
  "vscode": {
   "interpreter": {
    "hash": "916dbcbb3f70747c44a77c7bcd40155683ae19c65e1c03b4aa3499c5328201f1"
   }
  }
 },
 "nbformat": 4,
 "nbformat_minor": 2
}
