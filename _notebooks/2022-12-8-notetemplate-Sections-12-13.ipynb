{
 "cells": [
  {
   "cell_type": "markdown",
   "metadata": {},
   "source": [
    "# Note Template\n",
    "- comments: true"
   ]
  },
  {
   "cell_type": "markdown",
   "metadata": {},
   "source": [
    "# Take some additional notes that you would like here for 3.12 and 3.13. We will be looking for additional notes from the presentation. \n"
   ]
  },
  {
   "attachments": {},
   "cell_type": "markdown",
   "metadata": {},
   "source": [
    "# What are procedures?\n",
    "\n",
    "**Fill in the blanks please:**\n",
    "\n",
    "Procedure: Named group of programming instructions that may have parameters and return values.\n",
    "\n",
    "Parameters: Input values of a procedure.\n",
    "\n",
    "Arguments: specify the values of the parameters when a procedure is called.\n",
    "\n",
    "Modularity: Separating a program's functions into independent pieces or blocks, each containing all the parts needed to execute a single aspect of the functionality.\n",
    "\n",
    "Procedural Abstraction: One type of abstraction is procedural abstraction, which provides a name for a process that allows a procedure to be used only knowing WHAT it does, not HOW it does it.\n",
    "\n",
    "What are some other names for procedures?: Convenient to change the actions if there is an error in the code (modularity)\n",
    "\n",
    "Why are procedures effective?: Procedures allow someone to execute a block of code that would otherwise have to be rewritten several times. \n",
    "\n",
    "\n",
    "Additional Notes:\n",
    "- When we define procedures in python, we used \"def.\"\n",
    "- A procedure call interrupts a series of statements and makes the program execute the statements in the procedure.\n",
    "- Many different commands can be used incorporating a procedure"
   ]
  },
  {
   "attachments": {},
   "cell_type": "markdown",
   "metadata": {},
   "source": [
    "## <mark>Challenge 1</mark> below: Add the command that will **call** the procedure. "
   ]
  },
  {
   "cell_type": "code",
   "execution_count": 1,
   "metadata": {},
   "outputs": [
    {
     "name": "stdout",
     "output_type": "stream",
     "text": [
      "Binary of 12 is: 1100\n"
     ]
    }
   ],
   "source": [
    "def DecimalToBinary(num):\n",
    "    strs = \"\"\n",
    "    while num:\n",
    "        # if (num & 1) = 1\n",
    "        if (num & 1):\n",
    "            strs += \"1\"\n",
    "        # if (num & 1) = 0\n",
    "        else:\n",
    "            strs += \"0\"\n",
    "        # right shift by 1\n",
    "        num >>= 1\n",
    "    return strs\n",
    " \n",
    "# function to reverse the string\n",
    "def reverse(strs):\n",
    "    print(strs[::-1])\n",
    " \n",
    "# Driver Code\n",
    "num = int(input(\"What is your number?\"))\n",
    "print(\"Binary of\", num,  \"is:\", end=\" \")\n",
    "reverse(DecimalToBinary(num))"
   ]
  },
  {
   "attachments": {},
   "cell_type": "markdown",
   "metadata": {},
   "source": [
    "## <mark>Challenge 2</mark> below: Complete the Min and Max procedure in either JavaScript and Python using the instructions from the JavaScript page. (JavaScript will get you a extra 0.1)"
   ]
  },
  {
   "cell_type": "code",
   "execution_count": 17,
   "metadata": {},
   "outputs": [
    {
     "name": "stdout",
     "output_type": "stream",
     "text": [
      "2\n"
     ]
    }
   ],
   "source": [
    "def function(a,b):\n",
    "    if a>b:\n",
    "        print(a)\n",
    "    if b>a:\n",
    "        print(b)\n",
    "a = 1\n",
    "b = 2\n",
    "function(a,b)"
   ]
  },
  {
   "attachments": {},
   "cell_type": "markdown",
   "metadata": {},
   "source": [
    "## <mark>Homework/Hacks</mark>: For the hw, you have two options, easy or hard. The easy hack is for a 2.7 + extra work for the full 3. The easy hack is simply creating your own procedure with your own creativity. Since there is a lot of leeway for this one, you must do additional work to get a 3. For the hard hack, below is the start to a character to binary convertor. This is just a template, but the goal is to translate \"APCSP\" into binary. You can delete the existing code if you want. The only contraint is that you must use a procedure. Doing this will get you a 3. "
   ]
  },
  {
   "cell_type": "code",
   "execution_count": 5,
   "metadata": {},
   "outputs": [
    {
     "name": "stdout",
     "output_type": "stream",
     "text": [
      "1000001\n",
      "1010000\n",
      "1000011\n",
      "1010011\n",
      "1010000\n"
     ]
    }
   ],
   "source": [
    "def charToBinary(x):\n",
    "   decimal_conversion = ord(x)\n",
    "   binary_conversion  = bin(decimal_conversion)[2:]\n",
    "   return binary_conversion\n",
    "\n",
    "string_for_function = \"APCSP\"\n",
    "for x in string_for_function:\n",
    "    binary = charToBinary(x)\n",
    "    print(binary)\n",
    "\n",
    "\n",
    "\n",
    "# The output shown below is the output you are supposed to get"
   ]
  }
 ],
 "metadata": {
  "kernelspec": {
   "display_name": "Python 3.8.2 64-bit",
   "language": "python",
   "name": "python3"
  },
  "language_info": {
   "codemirror_mode": {
    "name": "ipython",
    "version": 3
   },
   "file_extension": ".py",
   "mimetype": "text/x-python",
   "name": "python",
   "nbconvert_exporter": "python",
   "pygments_lexer": "ipython3",
   "version": "3.8.10"
  },
  "orig_nbformat": 4,
  "vscode": {
   "interpreter": {
    "hash": "916dbcbb3f70747c44a77c7bcd40155683ae19c65e1c03b4aa3499c5328201f1"
   }
  }
 },
 "nbformat": 4,
 "nbformat_minor": 2
}
