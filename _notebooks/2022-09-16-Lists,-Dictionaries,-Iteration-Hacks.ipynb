{
 "cells": [
  {
   "cell_type": "markdown",
   "metadata": {},
   "source": [
    "# Lists, Dictionaries, Iteration Hacks\n",
    ">Lists, Dictionaries, and Iteration Hacks\n",
    "- toc: true\n",
    "- branch master\n",
    "- badges: true\n",
    "- categories: [fastpages, jupyter]"
   ]
  },
  {
   "cell_type": "markdown",
   "metadata": {},
   "source": [
    "## Added Information to Dictionary\n",
    "\n",
    "Added more information to InfoDb dictionary."
   ]
  },
  {
   "cell_type": "code",
   "execution_count": 2,
   "metadata": {},
   "outputs": [
    {
     "name": "stdout",
     "output_type": "stream",
     "text": [
      "[{'FirstName': 'Harsha', 'LastName': 'Jai', 'DOB': 'May 16', 'Residence': 'San Diego', 'Email': 'harshadevice@gmail.com', 'Favorite Dog': 'Golden Retriever', 'Favorite Subject': 'Math', 'Favorite Food': 'Pizza'}]\n"
     ]
    }
   ],
   "source": [
    "InfoDb = []\n",
    "\n",
    "# InfoDB is a data structure with expected Keys and Values\n",
    "\n",
    "# Append to List a Dictionary of key/values related to a person and cars\n",
    "InfoDb.append({\n",
    "    \"FirstName\": \"Harsha\",\n",
    "    \"LastName\": \"Jai\",\n",
    "    \"DOB\": \"May 16\",\n",
    "    \"Residence\": \"San Diego\",\n",
    "    \"Email\": \"harshadevice@gmail.com\",\n",
    "    \"Favorite Dog\": \"Golden Retriever\",\n",
    "    \"Favorite Subject\": \"Math\",\n",
    "    \"Favorite Food\": \"Pizza\",\n",
    "})\n",
    "\n",
    "    \n",
    "# Print the data structure\n",
    "print(InfoDb)"
   ]
  },
  {
   "cell_type": "markdown",
   "metadata": {},
   "source": [
    "## Reversing Elements in a Dictionary\n",
    "\n",
    "Below contains the code for reversing a dictionary. "
   ]
  },
  {
   "cell_type": "code",
   "execution_count": 3,
   "metadata": {},
   "outputs": [
    {
     "name": "stdout",
     "output_type": "stream",
     "text": [
      "The original dictionary : {'Dylan': 30, 'Adam': 22, 'John': 40}\n",
      "The reversed order dictionary : {'John': 40, 'Adam': 22, 'Dylan': 30}\n"
     ]
    }
   ],
   "source": [
    "test_dict = {'Dylan' : 30, 'Adam' : 22, 'John' : 40}\n",
    "  # contains the names of people and their age\n",
    "\n",
    "print(\"The original dictionary : \" + str(test_dict))\n",
    "reversed_dictionary =dict(reversed(list(test_dict.items())))\n",
    "  \n",
    "\n",
    "print(\"The reversed order dictionary : \" + str(reversed_dictionary)) "
   ]
  },
  {
   "cell_type": "markdown",
   "metadata": {},
   "source": [
    "## Quiz using Dictionaries\n",
    "\n",
    "My quiz using dictionaries (on the French Revolution)."
   ]
  },
  {
   "cell_type": "code",
   "execution_count": 10,
   "metadata": {},
   "outputs": [
    {
     "name": "stdout",
     "output_type": "stream",
     "text": [
      "Who is the king of France during the French Revolution? \n",
      "Answer: King Louis XVI\n",
      "Correct\n",
      "Who is the wife of King Louis XVI?\n",
      "Answer: Marie Antoinette\n",
      "Correct\n",
      "In what year did the French Revolution end?\n",
      "Answer: 1799\n",
      "Correct\n"
     ]
    }
   ],
   "source": [
    "from multiprocessing.sharedctypes import Value\n",
    "Quiz = {\"Who is the king of France during the French Revolution? \": \"King Louis XVI\",\n",
    "    \"Who is the wife of King Louis XVI?\": \"Marie Antoinette\",\n",
    "    \"In what year did the French Revolution end?\": \"1799\" }\n",
    "\n",
    "\n",
    "for key,value in Quiz.items():\n",
    "    print(f\"{key}\")\n",
    "    ans = input(\"Enter the answer:  \")\n",
    "    print(\"Answer: \" + ans)\n",
    "    if ans==Quiz[key]:\n",
    "        print(\"Correct\")\n",
    "    else:\n",
    "        print(\"incorrect\")   \n",
    "\n",
    "\n"
   ]
  }
 ],
 "metadata": {
  "kernelspec": {
   "display_name": "Python 3.9.12 ('base')",
   "language": "python",
   "name": "python3"
  },
  "language_info": {
   "codemirror_mode": {
    "name": "ipython",
    "version": 3
   },
   "file_extension": ".py",
   "mimetype": "text/x-python",
   "name": "python",
   "nbconvert_exporter": "python",
   "pygments_lexer": "ipython3",
   "version": "3.9.12"
  },
  "orig_nbformat": 4,
  "vscode": {
   "interpreter": {
    "hash": "61a57a4b5406d2de388e2f91097d4e4bcd7d5f4a46f53a795aa28a02eed27fc5"
   }
  }
 },
 "nbformat": 4,
 "nbformat_minor": 2
}
