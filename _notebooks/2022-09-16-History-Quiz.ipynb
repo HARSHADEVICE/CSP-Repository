{
 "cells": [
  {
   "cell_type": "markdown",
   "metadata": {},
   "source": []
  },
  {
   "cell_type": "markdown",
   "metadata": {},
   "source": [
    "# History Notes\n",
    "> History Notes\n",
    "- toc: true\n",
    "- branch master\n",
    "- badges: true\n",
    "- categories: [fastpages, jupyter, history, american revolution]"
   ]
  },
  {
   "cell_type": "markdown",
   "metadata": {},
   "source": [
    "## American Revolution Vocabulary\n",
    "\n",
    "- **Abolish**: To formally put an end to (a system, practice, or institution). Discussion with Jeeva\n",
    "\n",
    "- **Charter**: A written document from a government or ruler that grants certain rights to\n",
    "an individual, group organization, or to people in general. In colonial times, a\n",
    "charter granted land to a person or a company along with the right to start a colony\n",
    "on that land.\n",
    "- **Committees** of correspondence: Committees that began as voluntary associations\n",
    "and were eventually established by most of the colonial governments. Their mission\n",
    "was to make sure that each colony knew about events and opinions in the other\n",
    "colonies. They helped to unite the people against the British.\n",
    "-  **Common good**: The good of the community as a whole.\n",
    "-  **Daughters of Liberty**: An organization formed by women prior to the American\n",
    "Revolution. They got together to protest treatment of the colonies by their British\n",
    "rulers. They helped make the boycott of British trade effective by making their own\n",
    "materials instead of using British imports.\n",
    "- **Diplomacy**: The practice of carrying on formal relationships with governments of\n",
    "other countries."
   ]
  },
  {
   "cell_type": "markdown",
   "metadata": {},
   "source": [
    "## American Revolution Notes \n",
    "\n",
    "The Enlightenment, or \n",
    " Age of Light refers to the belief that musty old ideas need to be exposed to   rational investigation   to see if they were still valuable.\n",
    " \n",
    "**What did tea and coffee bring to everyday life in Europe?**\n",
    " \n",
    " - Tea and coffee brought experimentation to Europe. Some people thought that it should be baked as a pie filling. A diplomat said that tea and coffee brought greater “civility” and “sobriety”.\n",
    "\n",
    " \n",
    "\n"
   ]
  }
 ],
 "metadata": {
  "kernelspec": {
   "display_name": "Python 3.8.10 64-bit",
   "language": "python",
   "name": "python3"
  },
  "language_info": {
   "name": "python",
   "version": "3.8.10"
  },
  "orig_nbformat": 4,
  "vscode": {
   "interpreter": {
    "hash": "916dbcbb3f70747c44a77c7bcd40155683ae19c65e1c03b4aa3499c5328201f1"
   }
  }
 },
 "nbformat": 4,
 "nbformat_minor": 2
}
