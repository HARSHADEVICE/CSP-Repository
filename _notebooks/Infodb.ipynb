{
 "cells": [
  {
   "cell_type": "markdown",
   "metadata": {},
   "source": [
    "# Personal Records\n",
    "> Add Personal Records\n",
    "- toc: true\n",
    "- branch master\n",
    "- badges: true\n",
    "- categories: [fastpages, jupyter, personalinfo]"
   ]
  },
  {
   "cell_type": "code",
   "execution_count": 3,
   "metadata": {},
   "outputs": [
    {
     "name": "stdout",
     "output_type": "stream",
     "text": [
      "[{'FirstName': 'Harsha', 'LastName': 'Jai', 'DOB': 'May 16', 'Residence': 'San Diego', 'Email': 'harshadevice@gmail.com', 'Favorite Dog': 'Golden Retriever', 'Favorite Subject': 'Math', 'Favorite Food': 'Pizza'}]\n"
     ]
    }
   ],
   "source": [
    "InfoDb = []\n",
    "\n",
    "# InfoDB is a data structure with expected Keys and Values\n",
    "\n",
    "# Append to List a Dictionary of key/values related to a person and cars\n",
    "InfoDb.append({\n",
    "    \"FirstName\": \"Harsha\",\n",
    "    \"LastName\": \"Jai\",\n",
    "    \"DOB\": \"May 16\",\n",
    "    \"Residence\": \"San Diego\",\n",
    "    \"Email\": \"harshadevice@gmail.com\",\n",
    "    \"Favorite Dog\": \"Golden Retriever\",\n",
    "    \"Favorite Subject\": \"Math\",\n",
    "    \"Favorite Food\": \"Pizza\",\n",
    "})\n",
    "\n",
    "    \n",
    "# Print the data structure\n",
    "print(InfoDb)"
   ]
  }
 ],
 "metadata": {
  "kernelspec": {
   "display_name": "Python 3.8.10 64-bit",
   "language": "python",
   "name": "python3"
  },
  "language_info": {
   "codemirror_mode": {
    "name": "ipython",
    "version": 3
   },
   "file_extension": ".py",
   "mimetype": "text/x-python",
   "name": "python",
   "nbconvert_exporter": "python",
   "pygments_lexer": "ipython3",
   "version": "3.8.10"
  },
  "orig_nbformat": 4,
  "vscode": {
   "interpreter": {
    "hash": "916dbcbb3f70747c44a77c7bcd40155683ae19c65e1c03b4aa3499c5328201f1"
   }
  }
 },
 "nbformat": 4,
 "nbformat_minor": 2
}
