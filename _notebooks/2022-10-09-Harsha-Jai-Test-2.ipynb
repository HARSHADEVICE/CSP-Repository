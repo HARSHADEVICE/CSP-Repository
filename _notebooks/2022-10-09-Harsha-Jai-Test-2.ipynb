{
 "cells": [
  {
   "cell_type": "code",
   "execution_count": 1,
   "metadata": {},
   "outputs": [
    {
     "name": "stdout",
     "output_type": "stream",
     "text": [
      "{'result': [{'name': 'Income Statement', 'securityID': 'AAPL:US', 'timeBasedSheets': [{'name': 'Quarterly', 'columnHeadings': ['12/2021', '3/2022', '6/2022'], 'chartData': [{'name': 'Revenue', 'chartType': 'bar', 'isPercentage': False, 'values': [123945000000.0, 97278000000.0, 82959000000.0]}, {'name': 'Net Income', 'chartType': 'bar', 'isPercentage': False, 'values': [34630000000.0, 25010000000.0, 19442000000.0]}, {'name': 'Profit Margin', 'chartType': 'line', 'isPercentage': True, 'values': [27.9398, 25.7098, 23.4357]}]}, {'name': 'Annual', 'columnHeadings': ['2019', '2020', '2021'], 'chartData': [{'name': 'Revenue', 'chartType': 'bar', 'isPercentage': False, 'values': [260174000000.0, 274515000000.0, 365817000000.0]}, {'name': 'Net Income', 'chartType': 'bar', 'isPercentage': False, 'values': [55256000000.0, 57411000000.0, 94680000000.0]}, {'name': 'Profit Margin', 'chartType': 'line', 'isPercentage': True, 'values': [21.2381, 20.9136, 25.8818]}]}]}, {'name': 'Balance Sheet', 'securityID': 'AAPL:US', 'timeBasedSheets': [{'name': 'Quarterly', 'columnHeadings': ['12/2021', '3/2022', '6/2022'], 'chartData': [{'name': 'Total Assets', 'chartType': 'bar', 'isPercentage': False, 'values': [381191000000.0, 350662000000.0, 336309000000.0]}, {'name': 'Total Liabilities', 'chartType': 'bar', 'isPercentage': False, 'values': [309259000000.0, 283263000000.0, 278202000000.0]}, {'name': 'Debt to Assets', 'chartType': 'line', 'isPercentage': True, 'values': [32.2143, 34.2156, 35.5896]}]}, {'name': 'Annual', 'columnHeadings': ['2019', '2020', '2021'], 'chartData': [{'name': 'Total Assets', 'chartType': 'bar', 'isPercentage': False, 'values': [338516000000.0, 323888000000.0, 351002000000.0]}, {'name': 'Total Liabilities', 'chartType': 'bar', 'isPercentage': False, 'values': [248028000000.0, 258549000000.0, 287912000000.0]}, {'name': 'Debt to Assets', 'chartType': 'line', 'isPercentage': True, 'values': [31.9178, 37.7532, 38.8949]}]}]}, {'name': 'Cash Flow', 'securityID': 'AAPL:US', 'timeBasedSheets': [{'name': 'Quarterly', 'columnHeadings': ['12/2021', '3/2022', '6/2022'], 'chartData': [{'name': 'Operating', 'chartType': 'line', 'isPercentage': False, 'values': [46966000000.0, 28166000000.0, 22892000000.0]}, {'name': 'Investing', 'chartType': 'line', 'isPercentage': False, 'values': [-16106000000.0, -9265000000.0, 4234000000.0]}, {'name': 'Financing', 'chartType': 'line', 'isPercentage': False, 'values': [-28159000000.0, -28351000000.0, -27445000000.0]}]}, {'name': 'Annual', 'columnHeadings': ['2019', '2020', '2021'], 'chartData': [{'name': 'Operating', 'chartType': 'line', 'isPercentage': False, 'values': [69391000000.0, 80674000000.0, 104038000000.0]}, {'name': 'Investing', 'chartType': 'line', 'isPercentage': False, 'values': [45896000000.0, -4289000000.0, -14545000000.0]}, {'name': 'Financing', 'chartType': 'line', 'isPercentage': False, 'values': [-90976000000.0, -86820000000.0, -93353000000.0]}]}]}]}\n"
     ]
    }
   ],
   "source": [
    "import requests\n",
    "import json\n",
    "from pandas.io.json import json_normalize\n",
    "import pandas as pd \n",
    "\n",
    "url = \"https://bloomberg-market-and-financial-news.p.rapidapi.com/stock/get-financials\"\n",
    "\n",
    "querystring = {\"id\":\"aapl:us\"}\n",
    "\n",
    "headers = {\n",
    "\t\"X-RapidAPI-Key\": \"da575c39f6mshc8ce88363a3e559p1050a9jsnfe4daeb7274a\",\n",
    "\t\"X-RapidAPI-Host\": \"bloomberg-market-and-financial-news.p.rapidapi.com\"\n",
    "}\n",
    "\n",
    "response = requests.request(\"GET\", url, headers=headers, params=querystring)\n",
    "\n",
    "data = response.json()\n",
    "\n",
    "#df = pd.read_json(data)\n",
    "print(response.json())\n",
    "\n"
   ]
  },
  {
   "cell_type": "markdown",
   "metadata": {},
   "source": [
    "- Example Test this failed :("
   ]
  }
 ],
 "metadata": {
  "kernelspec": {
   "display_name": "Python 3.9.12 ('base')",
   "language": "python",
   "name": "python3"
  },
  "language_info": {
   "codemirror_mode": {
    "name": "ipython",
    "version": 3
   },
   "file_extension": ".py",
   "mimetype": "text/x-python",
   "name": "python",
   "nbconvert_exporter": "python",
   "pygments_lexer": "ipython3",
   "version": "3.9.12"
  },
  "orig_nbformat": 4,
  "vscode": {
   "interpreter": {
    "hash": "0e633be2ef5d5f4fdb6262db3c26b5dd5ff8a18f49b3af4ffa88e469c7dd0139"
   }
  }
 },
 "nbformat": 4,
 "nbformat_minor": 2
}
