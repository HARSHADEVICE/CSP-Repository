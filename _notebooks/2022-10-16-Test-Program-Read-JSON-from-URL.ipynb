{
 "cells": [
  {
   "cell_type": "code",
   "execution_count": 2,
   "metadata": {},
   "outputs": [
    {
     "name": "stdout",
     "output_type": "stream",
     "text": [
      "     id   name  math  physics  chemistry\n",
      "0  A001    Tom    60       66         61\n",
      "1  A002  James    89       76         51\n",
      "2  A003  Jenny    79       90         78\n"
     ]
    }
   ],
   "source": [
    "import pandas as pd\n",
    "import json \n",
    "URL = 'http://raw.githubusercontent.com/BindiChen/machine-learning/master/data-analysis/027-pandas-convert-json/data/simple.json'\n",
    "df = pd.read_json(URL)\n",
    "print(df)"
   ]
  }
 ],
 "metadata": {
  "kernelspec": {
   "display_name": "Python 3.9.12 ('base')",
   "language": "python",
   "name": "python3"
  },
  "language_info": {
   "codemirror_mode": {
    "name": "ipython",
    "version": 3
   },
   "file_extension": ".py",
   "mimetype": "text/x-python",
   "name": "python",
   "nbconvert_exporter": "python",
   "pygments_lexer": "ipython3",
   "version": "3.9.12"
  },
  "orig_nbformat": 4,
  "vscode": {
   "interpreter": {
    "hash": "0e633be2ef5d5f4fdb6262db3c26b5dd5ff8a18f49b3af4ffa88e469c7dd0139"
   }
  }
 },
 "nbformat": 4,
 "nbformat_minor": 2
}
