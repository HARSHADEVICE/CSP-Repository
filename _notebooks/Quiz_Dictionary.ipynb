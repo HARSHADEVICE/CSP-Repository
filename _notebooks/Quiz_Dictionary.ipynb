{
 "cells": [
  {
   "cell_type": "markdown",
   "metadata": {},
   "source": [
    "# Quiz (Using Dictionaries)\n",
    "> 2nd Quiz Using Dictionaries\n",
    "- toc: true\n",
    "- branch master\n",
    "- badges: true\n",
    "- categories: [fastpages, jupyter, history]"
   ]
  },
  {
   "cell_type": "code",
   "execution_count": 2,
   "metadata": {},
   "outputs": [
    {
     "name": "stdout",
     "output_type": "stream",
     "text": [
      "Who is the king of France during the French Revolution? \n",
      "incorrect\n",
      "Who is the wife of King Louis XVI?\n",
      "Correct\n",
      "In what year did the French Revolution end?\n",
      "Correct\n"
     ]
    }
   ],
   "source": [
    "from multiprocessing.sharedctypes import Value\n",
    "\n",
    "\n",
    "Quiz = {\"Who is the king of France during the French Revolution? \": \"King Louis XVI\",\n",
    "    \"Who is the wife of King Louis XVI?\": \"Marie Antoinette\",\n",
    "    \"In what year did the French Revolution end?\": \"1799\" }\n",
    "\n",
    "\n",
    "for key,value in Quiz.items():\n",
    "    print(f\"{key}\")\n",
    "    ans = input(\"Enter the answer:  \")\n",
    "    if ans==Quiz[key]:\n",
    "        print(\"Correct\")\n",
    "    else:\n",
    "        print(\"incorrect\")   \n",
    "\n",
    "\n"
   ]
  }
 ],
 "metadata": {
  "kernelspec": {
   "display_name": "Python 3.8.10 64-bit",
   "language": "python",
   "name": "python3"
  },
  "language_info": {
   "codemirror_mode": {
    "name": "ipython",
    "version": 3
   },
   "file_extension": ".py",
   "mimetype": "text/x-python",
   "name": "python",
   "nbconvert_exporter": "python",
   "pygments_lexer": "ipython3",
   "version": "3.8.10"
  },
  "orig_nbformat": 4,
  "vscode": {
   "interpreter": {
    "hash": "916dbcbb3f70747c44a77c7bcd40155683ae19c65e1c03b4aa3499c5328201f1"
   }
  }
 },
 "nbformat": 4,
 "nbformat_minor": 2
}
