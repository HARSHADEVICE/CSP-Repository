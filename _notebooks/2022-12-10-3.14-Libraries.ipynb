{
 "cells": [
  {
   "attachments": {},
   "cell_type": "markdown",
   "metadata": {},
   "source": [
    "# Unit 3.14 Libraries Lesson + 3.15 Random Values\n",
    "> Homework + Challenges Combined\n",
    "\n",
    "- toc: true\n",
    "- comments: true"
   ]
  },
  {
   "attachments": {},
   "cell_type": "markdown",
   "metadata": {},
   "source": [
    "Purpose: Help students streamline and make their coding experience easier through built in packages and methods from a library\n",
    "<br>Objective: By the end of the lesson, students should be able to fluently use methods from the turtle and math packages, and be able to look up documentation for any python package and us it."
   ]
  },
  {
   "attachments": {},
   "cell_type": "markdown",
   "metadata": {},
   "source": [
    "fill in the blanks!\n",
    "# Libraries\n",
    "Okay, so we've learned a lot of code, and all of you now can boast that you can code at least some basic programs in python. But, what about more advanced stuff? What if there's a more advanced program you don't know how to make? Do you need to make it yourself? Well, not always.\n",
    "\n",
    "You've already learned about functions that you can write to reuse in your code in previous lessons. But,there are many others who code in python just like you. So why would you do again what someone has already done, and is available for any python user?\n",
    "\n",
    "Packages allow a python user to import methods from a library, and use the methods in their code. Most package come with documentation on the different methods they entail and how to use them, and they can be found with a quick google search. methods are used with the following:\n",
    "\n",
    "#### Note: a method from a package can only be used after the import statement. \n",
    "\n",
    "Some methods are always installed, such as those with the list methods which we have previously discussed. But others require a special python keyword called import. We will learn different ways to import in Challenge 1.\n",
    "\n",
    "Sometimes we only need to import a single method from the package. We can do that with the word \"from\", followed by the package name, then the word \"import\", then the method. This will alllow you to use the method without mentioning the package's name, unlike what we did before, however other methods from that package cannot be used. To get the best of both worlds you can use \"*\".\n",
    "\n",
    "To import a method as an easier name, just do what we did first, add the word \"as\", and write the name you would like to use that package as.\n",
    "\n",
    "# Challenge 1: Basic Libraries\n",
    "1. Find a python package on the internet and import it\n",
    "2. Choose a method from the package and import only the method\n",
    "3. import the package as a more convenient name."
   ]
  },
  {
   "cell_type": "code",
   "execution_count": 1,
   "metadata": {},
   "outputs": [
    {
     "name": "stdout",
     "output_type": "stream",
     "text": [
      "4.0\n",
      "0.0015926529164868282\n"
     ]
    }
   ],
   "source": [
    "# imports suare root from math library\n",
    "# a,b are different numbers\n",
    "from math import sqrt, sin\n",
    "  \n",
    "A = 16\n",
    "B = 3.14\n",
    "print(sqrt(A))\n",
    "print(sin(B))"
   ]
  },
  {
   "attachments": {},
   "cell_type": "markdown",
   "metadata": {},
   "source": [
    "# Challenge 2: Turtle\n",
    "Turtle is a python drawing package which allows you to draw all kinds of different shapes. It's ofter used to teach beginning python learners, but is really cool to use anywhere. Turtle employs a graphics package to display what you've done, but unfortunately it's kind of annoying to make work with vscode.\n",
    "Use: repl.it\n",
    "Click \"+ Create\", and for language, select \"Python (with Turtle)\"\n",
    "<br>\n",
    "[Documentation](https://docs.python.org/3/library/turtle.html#turtle.pendown)<br>\n",
    "Task: Have fun with turtle! Create something that uses at least 2 lines of different lengths and 2 turns with different angles, and changes at least one setting about either the pen or canvas. Also use one command that isn't mentioned on the table below(there are a lot). Paste a screenshot of the code and the drawing from repl.it\n",
    "\n",
    "|Commands|\n",
    "|--------|\n",
    "|forward(pixels)|\n",
    "|right(degrees)|\n",
    "|left(degrees)|\n",
    "|setpos(x,y)|\n",
    "|speed(speed)|\n",
    "|pensize(size)|\n",
    "|pencolor(color)|\n",
    "Note: Color should be within quotes, like \"brown\", or \"red\"\n",
    "\n"
   ]
  },
  {
   "attachments": {},
   "cell_type": "markdown",
   "metadata": {},
   "source": [
    "<img src=\"/mnt/c/Users/harsh/vscode/vscode/images/sussy.png\" alt=\"alt text\">"
   ]
  },
  {
   "attachments": {},
   "cell_type": "markdown",
   "metadata": {},
   "source": [
    "# Challenge 3: Math\n",
    "The math package allows for some really cool mathematical methods!<br>\n",
    "\n",
    "|methods|Action|\n",
    "|-------|------|\n",
    "|ceil(x)|The method ceil(x) in Python returns a ceiling value of x i.e., the smallest integer greater than or equal to x.|\n",
    "|floor(x)|rounds to largest intefer less than or equal to x|\n",
    "|factorial(x)|prints out the product of all the numbers less than or equal to that number.|\n",
    "|gcd(x,y)|returns the greatest common denominator of x and y|\n",
    "|lcm(x,y)| returns the least common multiple of x and y|\n",
    "\n",
    "##### Challenge: Create a program which asks for a user input of two numbers, and returns the following:\n",
    "- each number rounded up\n",
    "- each number rounded down\n",
    "- the lcm of the rounded down numbers\n",
    "- the gcf of the rounded up numbers\n",
    "- the factorial of each number\n",
    "- something else using the math package!<br>\n",
    "[Documentation](https://docs.python.org/3/library/math.html)"
   ]
  },
  {
   "cell_type": "code",
   "execution_count": 14,
   "metadata": {},
   "outputs": [
    {
     "name": "stdout",
     "output_type": "stream",
     "text": [
      "4\n",
      "3\n",
      "4\n",
      "3\n",
      "1\n",
      "24\n",
      "6\n",
      "2.0\n",
      "1.7320508075688772\n"
     ]
    }
   ],
   "source": [
    "import math\n",
    "from math import *\n",
    "x = float(input(\"Choose a number\"))\n",
    "y = float(input(\"Choose a second number\"))\n",
    "print(ceil(x))\n",
    "print(ceil(y))\n",
    "print(floor(x))\n",
    "print(floor(y))\n",
    "print(str(gcd(ceil(x), ceil(y))))\n",
    "print(factorial(floor(x)))\n",
    "print(factorial(floor(y)))\n",
    "print(sqrt(x))\n",
    "print(sqrt(y))"
   ]
  },
  {
   "attachments": {},
   "cell_type": "markdown",
   "metadata": {},
   "source": [
    "# Homework: Putting it all together(complete only after the random values lesson)\n",
    "Option 1: Create a python program which generates a random number between 1 and 10, and use turtle to draw a regular polygon with that many sides. As a hint, remember that the total sum of all the angles in a polygon is (the number of sides - 2) * 180. Note: a regular polygon has all sides and angles the same size. Paste a screenshot of the code and the drawing from repl.it\n",
    "\n",
    "Option 2: use the \"datetime\" package, and looking up documentation, create a program to generate 2 random dates and find the number of days between\n",
    "\n",
    "\n",
    "Extra ideas: customize the settings, draw a picture, or something else!"
   ]
  },
  {
   "attachments": {},
   "cell_type": "markdown",
   "metadata": {},
   "source": [
    "<img src=/mnt/c/Users/harsh/vscode/vscode/images/shapeturtle.png alt=\"alt text\">\n",
    "\n",
    "Extra-Credit: My program allows the user to input color and it prints the figure out in whatever color that the user inputs. "
   ]
  },
  {
   "attachments": {},
   "cell_type": "markdown",
   "metadata": {},
   "source": [
    "# Random Values 3.15"
   ]
  },
  {
   "attachments": {},
   "cell_type": "markdown",
   "metadata": {},
   "source": [
    "## Additional Notes\n",
    "- Random values give a random number out of a user defined set of numbers.\n",
    "- Random numbers aren't fully random as that is not exactly possible (they use some sort of unpredictable algorithm)\n",
    "- These are important to set a base value in a program or prove that the program works for any number.\n",
    "- Very useful for a variety of programs.\n"
   ]
  },
  {
   "cell_type": "markdown",
   "metadata": {},
   "source": [
    "## Challenge #1\n",
    "Write a function that will a simulate a coinflip and print the output"
   ]
  },
  {
   "cell_type": "code",
   "execution_count": 26,
   "metadata": {},
   "outputs": [
    {
     "name": "stdout",
     "output_type": "stream",
     "text": [
      "heads\n",
      "heads\n"
     ]
    }
   ],
   "source": [
    "import random\n",
    "def coinflip():\n",
    "    x = random.randint(1,2)\n",
    "    if (x==1):\n",
    "        return(\"heads\")\n",
    "    else:\n",
    "        return(\"tails\")\n",
    "print(coinflip())\n",
    "print(coinflip())"
   ]
  },
  {
   "attachments": {},
   "cell_type": "markdown",
   "metadata": {},
   "source": [
    "## Random Values Homework\n"
   ]
  },
  {
   "cell_type": "code",
   "execution_count": 37,
   "metadata": {},
   "outputs": [
    {
     "name": "stdout",
     "output_type": "stream",
     "text": [
      "171\n",
      "10101011\n"
     ]
    }
   ],
   "source": [
    "import random\n",
    "x = random.randint(1,256)\n",
    "binary_conversion = bin(x)\n",
    "print(x)\n",
    "print(binary_conversion[2:])"
   ]
  }
 ],
 "metadata": {
  "kernelspec": {
   "display_name": "Python 3",
   "language": "python",
   "name": "python3"
  },
  "language_info": {
   "codemirror_mode": {
    "name": "ipython",
    "version": 3
   },
   "file_extension": ".py",
   "mimetype": "text/x-python",
   "name": "python",
   "nbconvert_exporter": "python",
   "pygments_lexer": "ipython3",
   "version": "3.8.10"
  },
  "orig_nbformat": 4,
  "vscode": {
   "interpreter": {
    "hash": "916dbcbb3f70747c44a77c7bcd40155683ae19c65e1c03b4aa3499c5328201f1"
   }
  }
 },
 "nbformat": 4,
 "nbformat_minor": 2
}
