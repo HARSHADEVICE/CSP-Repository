{
 "cells": [
  {
   "cell_type": "markdown",
   "metadata": {},
   "source": [
    "# Error Testing Code\n",
    "> Changing the Errored (Wrong) Code\n",
    "- toc: true\n",
    "- branch master\n",
    "- badges: false"
   ]
  },
  {
   "cell_type": "markdown",
   "metadata": {},
   "source": [
    "- I had issues pulling the repository from class into this repository so I have displayed the code (with changes below)."
   ]
  },
  {
   "cell_type": "code",
   "execution_count": 4,
   "metadata": {},
   "outputs": [
    {
     "name": "stdout",
     "output_type": "stream",
     "text": [
      "['a', 'b', 'c', 'd', 'e', 'f', 'g', 'h', 'i', 'j', 'k', 'l', 'm', 'n', 'o', 'p', 'q', 'r', 's', 't', 'u', 'v', 'w', 'x', 'y', 'z']\n"
     ]
    }
   ],
   "source": [
    "alphabet = \"abcdefghijklmnopqrstuvwxyz\"\n",
    "\n",
    "alphabetList = []\n",
    "\n",
    "for i in alphabet:\n",
    "    alphabetList.append(i)\n",
    "\n",
    "print(alphabetList)\n",
    "# Displaying Alphabetlist"
   ]
  },
  {
   "cell_type": "code",
   "execution_count": 9,
   "metadata": {},
   "outputs": [
    {
     "name": "stdout",
     "output_type": "stream",
     "text": [
      "The letter y is the 25 letter in the alphabet\n"
     ]
    }
   ],
   "source": [
    "# Changed the i to i+1 in order for code to display the correct letter. (Letter was 1 less)\n",
    "letter = input(\"What letter would you like to check?\")\n",
    "\n",
    "i = 0\n",
    "\n",
    "while i < 26:\n",
    "    if alphabetList[i] == letter:\n",
    "        print(\"The letter \" + letter + \" is the \" + str(i+1) + \" letter in the alphabet\")\n",
    "    i += 1"
   ]
  },
  {
   "cell_type": "code",
   "execution_count": 19,
   "metadata": {},
   "outputs": [
    {
     "name": "stdout",
     "output_type": "stream",
     "text": [
      "[1, 3, 5, 7, 9]\n"
     ]
    }
   ],
   "source": [
    "# Modified the reminder to be 1 rather than 0 when divided by 2\n",
    "\n",
    "numbers = [0,1,2,3,4,5,6,7,8,9,10]\n",
    "odds = []\n",
    "\n",
    "for i in numbers:\n",
    "    if (numbers[i] % 2 == 1):\n",
    "        odds.append(numbers[i])\n",
    "\n",
    "print(odds)"
   ]
  },
  {
   "cell_type": "markdown",
   "metadata": {},
   "source": [
    "# Challenge Code Modifications (Menu)"
   ]
  },
  {
   "cell_type": "code",
   "execution_count": 17,
   "metadata": {},
   "outputs": [
    {
     "name": "stdout",
     "output_type": "stream",
     "text": [
      "Menu\n",
      "burger  $3.99\n",
      "fries  $1.99\n",
      "drink  $0.99\n",
      "This will cost you $ 3.99\n",
      "This will cost you $ 5.98\n",
      "This will cost you $ 6.970000000000001\n",
      "Alright, thats it\n"
     ]
    }
   ],
   "source": [
    "menu =  {\"burger\": 3.99,\n",
    "         \"fries\": 1.99,\n",
    "         \"drink\": 0.99}\n",
    "total = 0\n",
    "\n",
    "print(\"Menu\") #Displays menu.\n",
    "for k,v in menu.items():\n",
    "    print(k + \"  $\" + str(v)) \n",
    "\n",
    "\n",
    "order = True #set this as a boolean in order to store the value as true.\n",
    "while order:  #while loop is made to ensure that the user orders as much stuff as he/she wants.\n",
    "    item = input(\"Please select an item from the menu\") \n",
    "    if item in menu.keys(): \n",
    "        total+= menu[item]\n",
    "        print(\"This will cost you $\", total)\n",
    "    else:           # the code will render as False boolean if the user orders something that is not in the menu.\n",
    "        order = False\n",
    "        \n",
    "print(\"Alright, thats it\")"
   ]
  }
 ],
 "metadata": {
  "kernelspec": {
   "display_name": "Python 3.9.12 ('base')",
   "language": "python",
   "name": "python3"
  },
  "language_info": {
   "codemirror_mode": {
    "name": "ipython",
    "version": 3
   },
   "file_extension": ".py",
   "mimetype": "text/x-python",
   "name": "python",
   "nbconvert_exporter": "python",
   "pygments_lexer": "ipython3",
   "version": "3.9.12"
  },
  "orig_nbformat": 4,
  "vscode": {
   "interpreter": {
    "hash": "0e633be2ef5d5f4fdb6262db3c26b5dd5ff8a18f49b3af4ffa88e469c7dd0139"
   }
  }
 },
 "nbformat": 4,
 "nbformat_minor": 2
}
